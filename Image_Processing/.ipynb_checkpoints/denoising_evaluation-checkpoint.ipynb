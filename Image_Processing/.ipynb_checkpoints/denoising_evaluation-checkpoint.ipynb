{
 "cells": [
  {
   "cell_type": "code",
   "execution_count": 1,
   "metadata": {},
   "outputs": [],
   "source": [
    "import torch\n",
    "import torch.utils as utils\n",
    "import torch.nn as nn\n",
    "import torch.nn.functional as F\n",
    "from torch.autograd import Variable\n",
    "from tqdm import tqdm"
   ]
  },
  {
   "cell_type": "code",
   "execution_count": 2,
   "metadata": {},
   "outputs": [],
   "source": [
    "import numpy as np\n",
    "import os.path\n",
    "import shutil\n",
    "from scipy.io.matlab.mio import savemat, loadmat\n",
    "\n",
    "work_dir = ''\n",
    "\n",
    "# load noisy images\n",
    "noisy_fn = 'siddplus_valid_noisy_srgb.mat'\n",
    "noisy_key = 'siddplus_valid_noisy_srgb'\n",
    "noisy_mat = loadmat(os.path.join(work_dir, noisy_fn))[noisy_key]\n",
    "\n",
    "#load_ground_truth images\n",
    "gt_fn = 'siddplus_valid_gt_srgb.mat'\n",
    "gt_key = 'siddplus_valid_gt_srgb'\n",
    "gt_mat = loadmat(os.path.join(work_dir, gt_fn))[gt_key]"
   ]
  },
  {
   "cell_type": "code",
   "execution_count": 3,
   "metadata": {},
   "outputs": [],
   "source": [
    "class Encoder(nn.Module):\n",
    "    def __init__(self):\n",
    "        super(Encoder,self).__init__()\n",
    "        self.layer1 = nn.Sequential(\n",
    "                        nn.Conv2d(1,32,3,padding=1),   # batch x 32 x 256 x 256\n",
    "                        nn.ReLU(),\n",
    "                        nn.BatchNorm2d(32),             \n",
    "                        nn.Conv2d(32,32,3,padding=1),   # batch x 32 x 256 x 256\n",
    "                        nn.ReLU(),\n",
    "                        nn.BatchNorm2d(32),\n",
    "                        nn.Conv2d(32,64,3,padding=1),  # batch x 64 x 256 x 256\n",
    "                        nn.ReLU(),\n",
    "                        nn.BatchNorm2d(64),\n",
    "                        nn.Conv2d(64,64,3,padding=1),  # batch x 64 x 256 x 256\n",
    "                        nn.ReLU(),\n",
    "                        nn.BatchNorm2d(64),\n",
    "                        nn.MaxPool2d(2,2)   # batch x 64 x 128 x 128\n",
    "        )\n",
    "        self.layer2 = nn.Sequential(\n",
    "                        nn.Conv2d(64,128,3,padding=1),  # batch x 128 x 128 x 128\n",
    "                        nn.ReLU(),\n",
    "                        nn.BatchNorm2d(128),\n",
    "                        nn.Conv2d(128,128,3,padding=1),  # batch x 128 x 128 x 128\n",
    "                        nn.ReLU(),\n",
    "                        nn.BatchNorm2d(128),\n",
    "                        nn.MaxPool2d(2,2),\n",
    "                        nn.Conv2d(128,256,3,padding=1),  # batch x 256 x 64 x 64\n",
    "                        nn.ReLU()\n",
    "        )\n",
    "        \n",
    "                \n",
    "    def forward(self,x):\n",
    "        out = self.layer1(x)\n",
    "        out = self.layer2(out)\n",
    "        out = out.view(batch_size, -1)\n",
    "        return out"
   ]
  },
  {
   "cell_type": "code",
   "execution_count": 4,
   "metadata": {},
   "outputs": [],
   "source": [
    "class Decoder(nn.Module):\n",
    "    def __init__(self):\n",
    "        super(Decoder,self).__init__()\n",
    "        self.layer1 = nn.Sequential(\n",
    "                        nn.ConvTranspose2d(256,128,3,2,1,1),\n",
    "                        nn.ReLU(),\n",
    "                        nn.BatchNorm2d(128),\n",
    "                        nn.ConvTranspose2d(128,128,3,1,1),\n",
    "                        nn.ReLU(),\n",
    "                        nn.BatchNorm2d(128),\n",
    "                        nn.ConvTranspose2d(128,64,3,1,1),\n",
    "                        nn.ReLU(),\n",
    "                        nn.BatchNorm2d(64),\n",
    "                        nn.ConvTranspose2d(64,64,3,1,1),\n",
    "                        nn.ReLU(),\n",
    "                        nn.BatchNorm2d(64)\n",
    "        )\n",
    "        self.layer2 = nn.Sequential(\n",
    "                        nn.ConvTranspose2d(64,32,3,1,1),\n",
    "                        nn.ReLU(),\n",
    "                        nn.BatchNorm2d(32),\n",
    "                        nn.ConvTranspose2d(32,32,3,1,1),\n",
    "                        nn.ReLU(),\n",
    "                        nn.BatchNorm2d(32),\n",
    "                        nn.ConvTranspose2d(32,1,3,2,1,1),\n",
    "                        nn.ReLU()\n",
    "        )\n",
    "        \n",
    "    def forward(self,x):\n",
    "        out = x.view(batch_size,256,64,64)\n",
    "        out = self.layer1(out)\n",
    "        out = self.layer2(out)\n",
    "        return out"
   ]
  },
  {
   "cell_type": "code",
   "execution_count": 5,
   "metadata": {},
   "outputs": [],
   "source": [
    "batch_size=4\n",
    "IMG_SIZE=256\n",
    "noisy_mat=torch.Tensor(noisy_mat)\n",
    "noisy_mat=noisy_mat/255\n",
    "\n",
    "noisy_mat=np.transpose(noisy_mat,(0,3,1,2))\n",
    "noisy_mat=noisy_mat.reshape(-1,1,IMG_SIZE,IMG_SIZE)\n",
    "\n",
    "val_loader = torch.utils.data.DataLoader(dataset=noisy_mat,batch_size=batch_size,shuffle=False)"
   ]
  },
  {
   "cell_type": "code",
   "execution_count": 6,
   "metadata": {},
   "outputs": [],
   "source": [
    "encoder, decoder = torch.load('model/epoch_1000.pkl')"
   ]
  },
  {
   "cell_type": "code",
   "execution_count": 7,
   "metadata": {},
   "outputs": [
    {
     "name": "stderr",
     "output_type": "stream",
     "text": [
      "100%|████████████████████████████████████████████████████████████████████████████████| 768/768 [01:12<00:00, 10.59it/s]\n"
     ]
    }
   ],
   "source": [
    "denoised_output=[]\n",
    "\n",
    "for val_noisy in tqdm(val_loader):\n",
    "    noisy_image = Variable(val_noisy).cuda()\n",
    "    \n",
    "    encoder_op = encoder(noisy_image)\n",
    "    output = decoder(encoder_op)\n",
    "    \n",
    "    output=output.cpu()\n",
    "    output=output.detach()\n",
    "    denoised_output.append(output)"
   ]
  },
  {
   "cell_type": "code",
   "execution_count": 8,
   "metadata": {},
   "outputs": [
    {
     "name": "stdout",
     "output_type": "stream",
     "text": [
      "torch.Size([768, 4, 1, 256, 256])\n",
      "torch.Size([3072, 1, 256, 256])\n",
      "torch.Size([1024, 3, 256, 256])\n",
      "torch.Size([1024, 256, 256, 3])\n"
     ]
    }
   ],
   "source": [
    "denoised_mat=denoised_output\n",
    "\n",
    "denoised_mat=torch.stack(denoised_mat)\n",
    "print(denoised_mat.size())\n",
    "\n",
    "denoised_mat=denoised_mat.view(-1,1,256,256)\n",
    "print(denoised_mat.size())\n",
    "\n",
    "denoised_mat=denoised_mat.view(-1,3,256,256)\n",
    "print(denoised_mat.size())\n",
    "\n",
    "denoised_mat=denoised_mat.permute(0,2,3,1)\n",
    "print(denoised_mat.shape)"
   ]
  },
  {
   "cell_type": "markdown",
   "metadata": {},
   "source": [
    "## **`Evaluation`**"
   ]
  },
  {
   "cell_type": "code",
   "execution_count": 9,
   "metadata": {},
   "outputs": [
    {
     "name": "stdout",
     "output_type": "stream",
     "text": [
      "(1024, 256, 256, 3)\n",
      "(1024, 256, 256, 3)\n"
     ]
    }
   ],
   "source": [
    "denoised_mat=denoised_mat.numpy()\n",
    "noisy_mat=noisy_mat.numpy()\n",
    "\n",
    "noisy_mat=noisy_mat*255\n",
    "denoised_mat=denoised_mat*255\n",
    "\n",
    "ref_mat=gt_mat\n",
    "res_mat=denoised_mat\n",
    "\n",
    "print(ref_mat.shape)\n",
    "print(res_mat.shape)"
   ]
  },
  {
   "cell_type": "code",
   "execution_count": 10,
   "metadata": {},
   "outputs": [
    {
     "name": "stdout",
     "output_type": "stream",
     "text": [
      "mean_psnr:\n",
      "26.46684921116884\n",
      "mean_ssim:\n",
      "0.7541058576312597\n"
     ]
    }
   ],
   "source": [
    "from skimage.metrics import structural_similarity as ssim\n",
    "\n",
    "ref_mat = ref_mat.astype('float') / 255.0\n",
    "res_mat = res_mat.astype('float') / 255.0\n",
    "\n",
    "def output_psnr_mse(img_orig, img_out):\n",
    "    squared_error = np.square(img_orig - img_out)\n",
    "    mse = np.mean(squared_error)\n",
    "    psnr = 10 * np.log10(1.0 / mse)\n",
    "    return psnr\n",
    "\n",
    "def mean_psnr_srgb(ref_mat, res_mat):\n",
    "    n_blk, h, w, c = ref_mat.shape\n",
    "    mean_psnr = 0\n",
    "    for b in range(n_blk):\n",
    "        ref_block = ref_mat[b, :, :, :]\n",
    "        res_block = res_mat[b, :, :, :]\n",
    "        ref_block = np.reshape(ref_block, (h, w, c))\n",
    "        res_block = np.reshape(res_block, (h, w, c))\n",
    "        psnr = output_psnr_mse(ref_block, res_block)\n",
    "        mean_psnr += psnr\n",
    "    return mean_psnr / n_blk\n",
    "\n",
    "def mean_ssim_srgb(ref_mat, res_mat):\n",
    "    n_blk, h, w, c = ref_mat.shape\n",
    "    mean_ssim = 0\n",
    "    for b in range(n_blk):\n",
    "        ref_block = ref_mat[b, :, :, :]\n",
    "        res_block = res_mat[b, :, :, :]\n",
    "        ref_block = np.reshape(ref_block, (h, w, c))\n",
    "        res_block = np.reshape(res_block, (h, w, c))\n",
    "        ssim1 = ssim(ref_block, res_block, gaussian_weights=True, use_sample_covariance=False,\n",
    "                     multichannel=True)\n",
    "        mean_ssim += ssim1\n",
    "    return mean_ssim / n_blk\n",
    "\n",
    "#PSNR\n",
    "mean_psnr = mean_psnr_srgb(ref_mat, res_mat)\n",
    "print('mean_psnr:')\n",
    "print(mean_psnr)\n",
    "\n",
    "# SSIM\n",
    "mean_ssim = mean_ssim_srgb(ref_mat, res_mat)\n",
    "print('mean_ssim:')\n",
    "print(mean_ssim)"
   ]
  }
 ],
 "metadata": {
  "kernelspec": {
   "display_name": "Python [conda env:dip_env]",
   "language": "python",
   "name": "conda-env-dip_env-py"
  },
  "language_info": {
   "codemirror_mode": {
    "name": "ipython",
    "version": 3
   },
   "file_extension": ".py",
   "mimetype": "text/x-python",
   "name": "python",
   "nbconvert_exporter": "python",
   "pygments_lexer": "ipython3",
   "version": "3.6.13"
  }
 },
 "nbformat": 4,
 "nbformat_minor": 4
}
